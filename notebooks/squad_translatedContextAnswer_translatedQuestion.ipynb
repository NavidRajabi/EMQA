{
 "cells": [
  {
   "cell_type": "code",
   "execution_count": 1,
   "metadata": {},
   "outputs": [
    {
     "data": {
      "text/plain": [
       "'Author Arnab Debnath\\nTask 4b code\\nThis code takes the Squad dataset. Trasnlate context and the answer to some random langauge. \\nTranslate the questions to some other random language.\\n'"
      ]
     },
     "execution_count": 1,
     "metadata": {},
     "output_type": "execute_result"
    }
   ],
   "source": [
    "'''Author Arnab Debnath\n",
    "Task 4b code\n",
    "This code takes the Squad dataset. Trasnlate context and the answer to some random langauge. \n",
    "Translate the questions to some other random language. Any of the chosen random language can also be English.\n",
    "'''"
   ]
  },
  {
   "cell_type": "code",
   "execution_count": 2,
   "metadata": {},
   "outputs": [],
   "source": [
    "import os\n",
    "import json\n",
    "import copy\n",
    "import random"
   ]
  },
  {
   "cell_type": "code",
   "execution_count": 3,
   "metadata": {},
   "outputs": [],
   "source": [
    "random.seed(123)"
   ]
  },
  {
   "cell_type": "code",
   "execution_count": 4,
   "metadata": {},
   "outputs": [],
   "source": [
    "from google_trans_new import google_translator"
   ]
  },
  {
   "cell_type": "code",
   "execution_count": 5,
   "metadata": {},
   "outputs": [],
   "source": [
    "SQUAD_FILE_PATH = '../Assignment-4/dataset/squad_train-v1.1.json'"
   ]
  },
  {
   "cell_type": "code",
   "execution_count": 6,
   "metadata": {},
   "outputs": [],
   "source": [
    "squad_dataset = json.load(open(SQUAD_FILE_PATH))"
   ]
  },
  {
   "cell_type": "code",
   "execution_count": 7,
   "metadata": {},
   "outputs": [],
   "source": [
    "translator = google_translator(timeout=10)\n",
    "SRC_LANG = 'en'\n",
    "target_languages = ['ar', 'bn', 'en', 'fi', 'id', 'ko', 'ru', 'sw', 'te']\n",
    "context_answer_count = [0,0,0,0,0,0,0,0,0]\n",
    "question_count = [0,0,0,0,0,0,0,0,0]"
   ]
  },
  {
   "cell_type": "code",
   "execution_count": null,
   "metadata": {},
   "outputs": [],
   "source": [
    "squad_dataset_copy = copy.deepcopy(squad_dataset)\n",
    "data = squad_dataset_copy['data']"
   ]
  },
  {
   "cell_type": "code",
   "execution_count": null,
   "metadata": {},
   "outputs": [],
   "source": [
    "for index, i in enumerate(data):\n",
    "    title = i['title']\n",
    "    paragraphs = i['paragraphs']\n",
    "    k = 0\n",
    "    while k < len(paragraphs):\n",
    "        paragraph = paragraphs[k]\n",
    "        context = paragraph['context']\n",
    "        \n",
    "        context_answer_random_no = random.randint(0, len(target_languages)-1)\n",
    "        context_answer_random_language = target_languages[context_answer_random_no]\n",
    "        context_answer_count[context_answer_random_no] += 1\n",
    "        try:\n",
    "            if context_answer_random_language != 'en':\n",
    "                translated_context = translator.translate(\n",
    "                    context, \n",
    "                    lang_src=SRC_LANG, \n",
    "                    lang_tgt=context_answer_random_language)\n",
    "            else:\n",
    "                translated_context = context\n",
    "        except:\n",
    "            # Sometimes this happens for no reason. Translating it again solves it.\n",
    "            print(\"context\")\n",
    "            translated_context = translator.translate(context, \n",
    "                                                      lang_src=SRC_LANG, \n",
    "                                                      lang_tgt=context_answer_random_language)\n",
    "\n",
    "        qas = paragraph['qas']\n",
    "        j = 0\n",
    "        flag_qas = False\n",
    "        while j < len(qas):\n",
    "            qa = qas[j]\n",
    "            answer = qa['answers'][0] #For each question, there is only 1 answer.\n",
    "            question = qa['question']\n",
    "            try:\n",
    "                while True:\n",
    "                    question_random_n0 = random.randint(0, len(target_languages)-1)\n",
    "                    if question_random_n0 != context_answer_random_no:\n",
    "                        break\n",
    "                        \n",
    "                question_random_language = target_languages[question_random_n0]\n",
    "                question_count['question_random_n0'] += 1\n",
    "                if question_random_language != 'en':\n",
    "                    translated_question = translator.translate(question, \n",
    "                                                               lang_src=SRC_LANG, \n",
    "                                                               lang_tgt=question_random_language)\n",
    "                else:\n",
    "                    translated_question = question\n",
    "            except:\n",
    "                # Sometimes this happens for no reason. Translating it again solves it.\n",
    "                print(\"Question\", question)\n",
    "                translated_question = translator.translate(question,\n",
    "                                                           lang_src=SRC_LANG, \n",
    "                                                           lang_tgt=question_random_language)\n",
    "            answer_start = answer['answer_start']\n",
    "\n",
    "            text = answer['text']\n",
    "            try:\n",
    "                if context_answer_random_language != 'en':\n",
    "                    translated_text = translator.translate(text, \n",
    "                                                           lang_src=SRC_LANG,\n",
    "                                                           lang_tgt=context_answer_random_language)\n",
    "                else:\n",
    "                    translated_text = text\n",
    "            except:\n",
    "                # Sometimes this happens for no reason. Translating it again solves it.\n",
    "                print(\"text\", text)\n",
    "                translated_text = translator.translate(text, \n",
    "                                                       lang_src=SRC_LANG, \n",
    "                                                       lang_tgt=context_answer_random_language)\n",
    "\n",
    "\n",
    "            start_index = translated_context.find(translated_text)\n",
    "            if start_index != -1:\n",
    "                answer['answer_start'] = start_index\n",
    "                answer['text'] = translated_text\n",
    "                qa['question'] = translated_question  \n",
    "\n",
    "                flag_qas = True\n",
    "                j += 1\n",
    "            else:\n",
    "                qas.pop(j)\n",
    "\n",
    "        if flag_qas == False:\n",
    "            paragraphs.pop(k)\n",
    "        else:\n",
    "            paragraph['context'] = translated_context\n",
    "            k += 1\n",
    "    print(index)\n",
    "    if len(paragraphs) == 0:\n",
    "        data.pop(index)\n",
    "        print(\"ALL PARAGRAPHS REMOVED.\")"
   ]
  },
  {
   "cell_type": "code",
   "execution_count": null,
   "metadata": {},
   "outputs": [],
   "source": [
    "out_path = '../Assignment-4/dataset/'"
   ]
  },
  {
   "cell_type": "code",
   "execution_count": null,
   "metadata": {},
   "outputs": [],
   "source": [
    "out_file = 'squad_multipleLanguageContext,Question,Answer.json'\n",
    "out_file_path = os.path.join(out_path, out_file)\n",
    "with open(out_file_path, 'w', encoding='utf8') as outfile:\n",
    "    json.dump(squad_dataset_copy, outfile)"
   ]
  },
  {
   "cell_type": "code",
   "execution_count": null,
   "metadata": {},
   "outputs": [],
   "source": [
    "print(context_answer_count)\n",
    "print(question_count)"
   ]
  }
 ],
 "metadata": {
  "kernelspec": {
   "display_name": "Python 3",
   "language": "python",
   "name": "python3"
  },
  "language_info": {
   "codemirror_mode": {
    "name": "ipython",
    "version": 3
   },
   "file_extension": ".py",
   "mimetype": "text/x-python",
   "name": "python",
   "nbconvert_exporter": "python",
   "pygments_lexer": "ipython3",
   "version": "3.6.9"
  }
 },
 "nbformat": 4,
 "nbformat_minor": 2
}

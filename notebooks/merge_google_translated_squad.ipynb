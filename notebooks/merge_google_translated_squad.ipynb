{
 "cells": [
  {
   "cell_type": "code",
   "execution_count": 27,
   "metadata": {},
   "outputs": [],
   "source": [
    "import os\n",
    "import json\n",
    "import random\n",
    "import copy"
   ]
  },
  {
   "cell_type": "code",
   "execution_count": 28,
   "metadata": {},
   "outputs": [],
   "source": [
    "random.seed(123)"
   ]
  },
  {
   "cell_type": "code",
   "execution_count": 29,
   "metadata": {},
   "outputs": [],
   "source": [
    "SQUAD_FILE = '../Assignment-4/dataset/squad_train-v1.1.json'"
   ]
  },
  {
   "cell_type": "code",
   "execution_count": 30,
   "metadata": {},
   "outputs": [],
   "source": [
    "squad_dataset = json.load(open(SQUAD_FILE))"
   ]
  },
  {
   "cell_type": "code",
   "execution_count": 31,
   "metadata": {},
   "outputs": [],
   "source": [
    "number_of_instances = 50"
   ]
  },
  {
   "cell_type": "code",
   "execution_count": 33,
   "metadata": {},
   "outputs": [],
   "source": [
    "language_path = '../Assignment-4/dataset/google_translate_train'\n",
    "language_files = os.listdir(language_path)\n",
    "language_files = [l for l in language_files if '.json' in l]"
   ]
  },
  {
   "cell_type": "code",
   "execution_count": 34,
   "metadata": {},
   "outputs": [
    {
     "name": "stdout",
     "output_type": "stream",
     "text": [
      "../Assignment-4/dataset/google_translate_train/squad_ko_google.json\n",
      "../Assignment-4/dataset/google_translate_train/squad_id_google.json\n",
      "../Assignment-4/dataset/google_translate_train/squad_ar_google.json\n",
      "../Assignment-4/dataset/google_translate_train/squad_sw_google.json\n",
      "../Assignment-4/dataset/google_translate_train/squad_ru_google.json\n",
      "../Assignment-4/dataset/google_translate_train/squad_fi_google.json\n",
      "../Assignment-4/dataset/google_translate_train/squad_te_google.json\n",
      "../Assignment-4/dataset/google_translate_train/squad_bn_google.json\n"
     ]
    }
   ],
   "source": [
    "for language_file in language_files:\n",
    "    \n",
    "    print(os.path.join(language_path, language_file))\n",
    "    in_file = json.load(open(os.path.join(language_path, language_file)))\n",
    "\n",
    "    #num_training_data = int(len(in_file['data']) * (p/100))\n",
    "    sample = random.sample(in_file['data'], number_of_instances)\n",
    "\n",
    "    squad_dataset['data'].extend(sample)"
   ]
  },
  {
   "cell_type": "code",
   "execution_count": 35,
   "metadata": {},
   "outputs": [],
   "source": [
    "out_path = f'../Assignment-4/dataset/merged_squad_google_transltate/'\n",
    "out_file_name = os.path.join(out_path, f'squad_plus_translatedSquad_{number_of_instances}.json')\n",
    "with open(out_file_name, 'w', encoding='utf-8') as outfile:\n",
    "    json.dump(squad_dataset, outfile)"
   ]
  },
  {
   "cell_type": "code",
   "execution_count": 36,
   "metadata": {},
   "outputs": [
    {
     "data": {
      "text/plain": [
       "842"
      ]
     },
     "execution_count": 36,
     "metadata": {},
     "output_type": "execute_result"
    }
   ],
   "source": [
    "len(squad_dataset['data'])"
   ]
  }
 ],
 "metadata": {
  "kernelspec": {
   "display_name": "Python 3",
   "language": "python",
   "name": "python3"
  },
  "language_info": {
   "codemirror_mode": {
    "name": "ipython",
    "version": 3
   },
   "file_extension": ".py",
   "mimetype": "text/x-python",
   "name": "python",
   "nbconvert_exporter": "python",
   "pygments_lexer": "ipython3",
   "version": "3.6.9"
  }
 },
 "nbformat": 4,
 "nbformat_minor": 2
}

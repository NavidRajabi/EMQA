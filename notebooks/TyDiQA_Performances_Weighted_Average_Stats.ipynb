{
 "cells": [
  {
   "cell_type": "code",
   "execution_count": 33,
   "metadata": {},
   "outputs": [],
   "source": [
    "# TyDiQA Baseline's Actual Overall Performance is 79.0\n",
    "\n",
    "TyDiQA_languages = ['English', \n",
    "                    'Arabic', \n",
    "                    'Bengali', \n",
    "                    'Finnish',\n",
    "                    'Indonesian', \n",
    "                    'Kiswahili', \n",
    "                    'Korean', \n",
    "                    'Russian', \n",
    "                    'Telugu']\n",
    "\n",
    "TyDiQA_GoldP_Dev_Scores = [76.8, \n",
    "                           81.7,\n",
    "                           75.4,\n",
    "                           79.4, \n",
    "                           84.8,\n",
    "                           81.9,\n",
    "                           69.2,\n",
    "                           76.2,\n",
    "                           83.3]\n",
    "\n",
    "TyDiQA_Dev_Set_Sizes = [1031,\n",
    "                        1380,\n",
    "                        328,\n",
    "                        2082,\n",
    "                        1805,\n",
    "                        2288,\n",
    "                        1698,\n",
    "                        1625,\n",
    "                        2479]"
   ]
  },
  {
   "cell_type": "code",
   "execution_count": 34,
   "metadata": {},
   "outputs": [
    {
     "name": "stdout",
     "output_type": "stream",
     "text": [
      "Overall Weighted Average Performance is:  79.52210519162816\n"
     ]
    }
   ],
   "source": [
    "sigma = 0\n",
    "\n",
    "for i in range(len(TyDiQA_languages)):\n",
    "    sigma += TyDiQA_GoldP_Dev_Scores[i] * TyDiQA_Dev_Set_Sizes[i]\n",
    "\n",
    "print(\"Overall Weighted Average Performance is: \", sigma/sum(TyDiQA_Dev_Set_Sizes))  "
   ]
  },
  {
   "cell_type": "code",
   "execution_count": 35,
   "metadata": {},
   "outputs": [],
   "source": [
    "TyDiQA_languages = ['Arabic', \n",
    "                    'Bengali', \n",
    "                    'Finnish',\n",
    "                    'Indonesian', \n",
    "                    'Kiswahili', \n",
    "                    'Korean', \n",
    "                    'Russian', \n",
    "                    'Telugu']\n",
    "\n",
    "TyDiQA_GoldP_Dev_Scores = [81.7,\n",
    "                           75.4,\n",
    "                           79.4, \n",
    "                           84.8,\n",
    "                           81.9,\n",
    "                           69.2,\n",
    "                           76.2,\n",
    "                           83.3]\n",
    "\n",
    "TyDiQA_Dev_Set_Sizes = [1380,\n",
    "                        328,\n",
    "                        2082,\n",
    "                        1805,\n",
    "                        2288,\n",
    "                        1698,\n",
    "                        1625,\n",
    "                        2479]"
   ]
  },
  {
   "cell_type": "code",
   "execution_count": 36,
   "metadata": {},
   "outputs": [
    {
     "name": "stdout",
     "output_type": "stream",
     "text": [
      "Overall Weighted Average Without English is:  79.7271830471319\n"
     ]
    }
   ],
   "source": [
    "sigma = 0\n",
    "\n",
    "for i in range(len(TyDiQA_languages)):\n",
    "    sigma += TyDiQA_GoldP_Dev_Scores[i] * TyDiQA_Dev_Set_Sizes[i]\n",
    "\n",
    "print(\"Overall Weighted Average Without English is: \", sigma/sum(TyDiQA_Dev_Set_Sizes))  "
   ]
  },
  {
   "cell_type": "code",
   "execution_count": 60,
   "metadata": {},
   "outputs": [],
   "source": [
    "# Our Actual Baseline Reproduction Overall Performance is 77.87\n",
    "\n",
    "TyDiQA_languages = ['English', \n",
    "                    'Arabic', \n",
    "                    'Bengali', \n",
    "                    'Finnish',\n",
    "                    'Indonesian', \n",
    "                    'Kiswahili', \n",
    "                    'Korean', \n",
    "                    'Russian', \n",
    "                    'Telugu']\n",
    "\n",
    "TyDiQA_GoldP_Dev_Scores = [77.51, \n",
    "                           82.44,\n",
    "                           78.94,\n",
    "                           80.06, \n",
    "                           85.36,\n",
    "                           83.78,\n",
    "                           34.55,\n",
    "                           76.46,\n",
    "                           78.27]\n",
    "\n",
    "TyDiQA_Dev_Set_Sizes = [1031,\n",
    "                        1380,\n",
    "                        328,\n",
    "                        2082,\n",
    "                        1805,\n",
    "                        2288,\n",
    "                        1698,\n",
    "                        1625,\n",
    "                        2479]"
   ]
  },
  {
   "cell_type": "code",
   "execution_count": 51,
   "metadata": {},
   "outputs": [
    {
     "name": "stdout",
     "output_type": "stream",
     "text": [
      "Our Overall Performance Weighted Average Is:  75.35780239195435\n"
     ]
    }
   ],
   "source": [
    "sigma = 0\n",
    "\n",
    "for i in range(len(TyDiQA_languages)):\n",
    "    sigma += TyDiQA_GoldP_Dev_Scores[i] * TyDiQA_Dev_Set_Sizes[i]\n",
    "\n",
    "print(\"Our Overall Performance Weighted Average Is: \", sigma/sum(TyDiQA_Dev_Set_Sizes))"
   ]
  },
  {
   "cell_type": "code",
   "execution_count": 68,
   "metadata": {},
   "outputs": [],
   "source": [
    "import json"
   ]
  },
  {
   "cell_type": "code",
   "execution_count": 69,
   "metadata": {},
   "outputs": [],
   "source": [
    "english = json.load(open('./TydiQA_Dev_Datasets/tydiqa-goldp-english-v1.1-dev.json'))\n",
    "arabic = json.load(open('./TydiQA_Dev_Datasets/tydiqa-goldp-arabic-v1.1-dev.json'))\n",
    "bengali = json.load(open('./TydiQA_Dev_Datasets/tydiqa-goldp-bengali-v1.1-dev.json'))\n",
    "finnish = json.load(open('./TydiQA_Dev_Datasets/tydiqa-goldp-finnish-v1.1-dev.json'))\n",
    "indonesian = json.load(open('./TydiQA_Dev_Datasets/tydiqa-goldp-indonesian-v1.1-dev.json'))\n",
    "korean = json.load(open('./TydiQA_Dev_Datasets/tydiqa-goldp-korean-v1.1-dev.json'))\n",
    "russian = json.load(open('./TydiQA_Dev_Datasets/tydiqa-goldp-russian-v1.1-dev.json'))\n",
    "swahili = json.load(open('./TydiQA_Dev_Datasets/tydiqa-goldp-swahili-v1.1-dev.json'))\n",
    "telugu = json.load(open('./TydiQA_Dev_Datasets/tydiqa-goldp-telugu-v1.1-dev.json'))\n",
    "\n",
    "Our_TyDiQA_Dev_sets = [english, arabic, bengali, finnish, indonesian, swahili, korean, russian, telugu]"
   ]
  },
  {
   "cell_type": "code",
   "execution_count": 70,
   "metadata": {},
   "outputs": [
    {
     "name": "stdout",
     "output_type": "stream",
     "text": [
      "440\n",
      "921\n",
      "113\n",
      "782\n",
      "564\n",
      "499\n",
      "277\n",
      "812\n",
      "669\n"
     ]
    }
   ],
   "source": [
    "Our_TyDiQA_Dev_Sets_Sizes = []\n",
    "\n",
    "for x in Our_TyDiQA_Dev_sets:\n",
    "    Our_TyDiQA_Dev_Sets_Sizes.append(int(len(x[\"data\"])))\n",
    "    print(len(x[\"data\"]))"
   ]
  },
  {
   "cell_type": "code",
   "execution_count": 71,
   "metadata": {},
   "outputs": [
    {
     "data": {
      "text/plain": [
       "[440, 921, 113, 782, 564, 499, 277, 812, 669]"
      ]
     },
     "execution_count": 71,
     "metadata": {},
     "output_type": "execute_result"
    }
   ],
   "source": [
    "Our_TyDiQA_Dev_Sets_Sizes"
   ]
  },
  {
   "cell_type": "code",
   "execution_count": 72,
   "metadata": {},
   "outputs": [],
   "source": [
    "# Our Actual Baseline Reproduction Overall Performance is 77.87\n",
    "\n",
    "TyDiQA_languages = ['English', \n",
    "                    'Arabic', \n",
    "                    'Bengali', \n",
    "                    'Finnish',\n",
    "                    'Indonesian', \n",
    "                    'Kiswahili', \n",
    "                    'Korean', \n",
    "                    'Russian', \n",
    "                    'Telugu']\n",
    "\n",
    "TyDiQA_GoldP_Dev_Scores = [77.51, \n",
    "                           82.44,\n",
    "                           78.94,\n",
    "                           80.06, \n",
    "                           85.36,\n",
    "                           83.78,\n",
    "                           34.55,\n",
    "                           76.46,\n",
    "                           78.27]\n",
    "\n",
    "# TyDiQA_Dev_Set_Sizes = [1031,\n",
    "#                         1380,\n",
    "#                         328,\n",
    "#                         2082,\n",
    "#                         1805,\n",
    "#                         2288,\n",
    "#                         1698,\n",
    "#                         1625,\n",
    "#                         2479]"
   ]
  },
  {
   "cell_type": "code",
   "execution_count": 73,
   "metadata": {},
   "outputs": [
    {
     "name": "stdout",
     "output_type": "stream",
     "text": [
      "Our Overall Performance Weighted Average Is:  77.90556233996455\n"
     ]
    }
   ],
   "source": [
    "sigma = 0\n",
    "\n",
    "for i in range(len(TyDiQA_languages)):\n",
    "    sigma += TyDiQA_GoldP_Dev_Scores[i] * Our_TyDiQA_Dev_Sets_Sizes[i]\n",
    "\n",
    "print(\"Our Overall Performance Weighted Average Is: \", sigma/sum(Our_TyDiQA_Dev_Sets_Sizes))"
   ]
  },
  {
   "cell_type": "code",
   "execution_count": 74,
   "metadata": {},
   "outputs": [
    {
     "name": "stdout",
     "output_type": "stream",
     "text": [
      "5077\n"
     ]
    }
   ],
   "source": [
    "full_dev_ours = json.load(open('./TydiQA_Dev_Datasets/tydiqa-goldp-v1.1-dev.json'))\n",
    "print(len(full_dev_ours[\"data\"]))"
   ]
  },
  {
   "cell_type": "code",
   "execution_count": null,
   "metadata": {},
   "outputs": [],
   "source": []
  }
 ],
 "metadata": {
  "kernelspec": {
   "display_name": "Python 3",
   "language": "python",
   "name": "python3"
  },
  "language_info": {
   "codemirror_mode": {
    "name": "ipython",
    "version": 3
   },
   "file_extension": ".py",
   "mimetype": "text/x-python",
   "name": "python",
   "nbconvert_exporter": "python",
   "pygments_lexer": "ipython3",
   "version": "3.7.4"
  }
 },
 "nbformat": 4,
 "nbformat_minor": 2
}
